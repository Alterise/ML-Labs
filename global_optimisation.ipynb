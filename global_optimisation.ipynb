{
  "nbformat": 4,
  "nbformat_minor": 0,
  "metadata": {
    "colab": {
      "provenance": [],
      "include_colab_link": true
    },
    "kernelspec": {
      "name": "python3",
      "display_name": "Python 3"
    },
    "language_info": {
      "name": "python"
    }
  },
  "cells": [
    {
      "cell_type": "markdown",
      "metadata": {
        "id": "view-in-github",
        "colab_type": "text"
      },
      "source": [
        "<a href=\"https://colab.research.google.com/github/Alterise/ML-Labs/blob/main/global_optimisation.ipynb\" target=\"_parent\"><img src=\"https://colab.research.google.com/assets/colab-badge.svg\" alt=\"Open In Colab\"/></a>"
      ]
    },
    {
      "cell_type": "markdown",
      "source": [
        "Терешков А. Ю. \\\\\n",
        "Группа 114\n",
        "\n"
      ],
      "metadata": {
        "id": "H_wxMzNqJEr9"
      }
    },
    {
      "cell_type": "markdown",
      "source": [
        "## ТЗ:\n",
        "\n",
        "*   В Pygmo запрогроммировать две своих тестовых функции и найти их оптимум 3 разными алгоритмами доступными в библиотеке и получить таблицу сравнения"
      ],
      "metadata": {
        "id": "YYJVBlWPL-QU"
      }
    },
    {
      "cell_type": "markdown",
      "source": [
        "##В Pygmo запрогроммировать две своих тестовых функции и найти их оптимум 3 разными алгоритмами доступными в библиотеке и получить таблицу сравнения"
      ],
      "metadata": {
        "id": "Fzy1bLWtxF-1"
      }
    },
    {
      "cell_type": "markdown",
      "source": [
        "Выбранные функции:\n",
        "1. Функция Била \\\\\n",
        "$f(x,y) = (1.5-x+xy)^2 + (2.25 - x + xy^2)^2 + (2.625 - x + xy^3)^2$\n",
        "2. Функция Леви N 13 \\\\\n",
        "$f(x,y) = sin^23\\pi x + (x- 1)^2(1+sin^23\\pi y) + (y - 1)^2 (1 + sin^2 \\pi y)$"
      ],
      "metadata": {
        "id": "J7nqsp2MMHwC"
      }
    },
    {
      "cell_type": "code",
      "source": [
        "%pip install pygmo"
      ],
      "metadata": {
        "colab": {
          "base_uri": "https://localhost:8080/"
        },
        "id": "s99o3MnksJX_",
        "outputId": "40e9c6e4-fc24-4561-fab0-4ed6a1cfca55"
      },
      "execution_count": 1,
      "outputs": [
        {
          "output_type": "stream",
          "name": "stdout",
          "text": [
            "Requirement already satisfied: pygmo in /usr/local/lib/python3.10/dist-packages (2.19.5)\n",
            "Requirement already satisfied: numpy in /usr/local/lib/python3.10/dist-packages (from pygmo) (1.23.5)\n",
            "Requirement already satisfied: cloudpickle in /usr/local/lib/python3.10/dist-packages (from pygmo) (2.2.1)\n",
            "Requirement already satisfied: scipy in /usr/local/lib/python3.10/dist-packages (from pygmo) (1.11.4)\n"
          ]
        }
      ]
    },
    {
      "cell_type": "code",
      "source": [
        "import pygmo as pg\n",
        "import numpy as np"
      ],
      "metadata": {
        "id": "snfGsrSmBO5u"
      },
      "execution_count": 2,
      "outputs": []
    },
    {
      "cell_type": "code",
      "source": [
        "class Bil:\n",
        "    def fitness(self, x):\n",
        "        return [(1.5 - x[0] + x[0]*x[1])**2 + (2.25 - x[0] + x[0]*x[1]**2)**2 + (2.625 - x[0] + x[0]*x[1]**3)**2]\n",
        "\n",
        "    def get_bounds(self):\n",
        "        return ([-4.5, -4.5], [4.5, 4.5])"
      ],
      "metadata": {
        "id": "Mo8gWs7vEt_R"
      },
      "execution_count": 3,
      "outputs": []
    },
    {
      "cell_type": "code",
      "source": [
        "class Levi:\n",
        "    def fitness(self, x):\n",
        "        return [np.sin(3*np.pi*x[0])**2+(x[0]-1)**2*(1+np.sin(1+np.sin(3*np.pi*x[1])**2))+(x[1]-1)**2*(1+np.sin(np.pi*x[1])**2)]\n",
        "\n",
        "    def get_bounds(self):\n",
        "        return ([-10, -10], [10, 10])"
      ],
      "metadata": {
        "id": "zHd7gQl0EwBE"
      },
      "execution_count": 4,
      "outputs": []
    },
    {
      "cell_type": "code",
      "source": [
        "def optimize(algorithm, problem):\n",
        "    prob = pg.problem(problem)\n",
        "    algo = pg.algorithm(algorithm(gen=500))\n",
        "\n",
        "    pop = pg.population(prob, size=50)\n",
        "    result = algo.evolve(pop)\n",
        "\n",
        "    return result.champion_x, problem.fitness(result.champion_x)[0]"
      ],
      "metadata": {
        "id": "8gYBpa-ICN8H"
      },
      "execution_count": 5,
      "outputs": []
    },
    {
      "cell_type": "markdown",
      "source": [
        "Сравнение алгоритмов Grey Wolf Optimizer (gwo), Artificial Bee Colony (bee_colony) и Exponential Evolution Strategies (xnes) для функции Била:"
      ],
      "metadata": {
        "id": "IZAyX94mIc_h"
      }
    },
    {
      "cell_type": "code",
      "source": [
        "# Сравнение для функции Била\n",
        "bil_problem = Bil()\n",
        "\n",
        "gwo_champion, gwo_value = optimize(pg.gwo, bil_problem)\n",
        "bee_colony_champion, bee_colony_value = optimize(pg.bee_colony, bil_problem)\n",
        "xnes_champion, xnes_value = optimize(pg.xnes, bil_problem)"
      ],
      "metadata": {
        "id": "fUxZv1COIa7g"
      },
      "execution_count": 6,
      "outputs": []
    },
    {
      "cell_type": "code",
      "source": [
        "print(\"Функция Била:\")\n",
        "\n",
        "print(f\"\\tАлгоритм GWO:\")\n",
        "print(f\"\\t\\tЛучшее решение: {gwo_champion}\")\n",
        "print(f\"\\t\\tЗначение функции: {gwo_value}\\n\")\n",
        "\n",
        "print(f\"\\tАлгоритм Bee Colony:\")\n",
        "print(f\"\\t\\tЛучшее решение: {bee_colony_champion}\")\n",
        "print(f\"\\t\\tЗначение функции: {bee_colony_value}\\n\")\n",
        "\n",
        "\n",
        "print(f\"\\tАлгоритм XNES\")\n",
        "print(f\"\\t\\tЛучшее решение: {xnes_champion}\")\n",
        "print(f\"\\t\\tЗначение функции: {xnes_value}\")"
      ],
      "metadata": {
        "colab": {
          "base_uri": "https://localhost:8080/"
        },
        "id": "0hN4_xglKG4y",
        "outputId": "601db2f5-bfbc-4e18-ef8c-d0ae987f3278"
      },
      "execution_count": 7,
      "outputs": [
        {
          "output_type": "stream",
          "name": "stdout",
          "text": [
            "Функция Била:\n",
            "\tАлгоритм GWO:\n",
            "\t\tЛучшее решение: [-4.5         1.18642906]\n",
            "\t\tЗначение функции: 0.7620696508923173\n",
            "\n",
            "\tАлгоритм Bee Colony:\n",
            "\t\tЛучшее решение: [3.00460188 0.50107845]\n",
            "\t\tЗначение функции: 3.457325337553259e-06\n",
            "\n",
            "\tАлгоритм XNES\n",
            "\t\tЛучшее решение: [3.00007841 0.50000702]\n",
            "\t\tЗначение функции: 4.545122322546056e-09\n"
          ]
        }
      ]
    },
    {
      "cell_type": "markdown",
      "source": [
        "Сравнение алгоритмов Grey Wolf Optimizer (gwo), Artificial Bee Colony (bee_colony) и Exponential Evolution Strategies (xnes) для функции Леви N 13:"
      ],
      "metadata": {
        "id": "YtcS2tAYI1Wc"
      }
    },
    {
      "cell_type": "code",
      "source": [
        "# Сравнение для функции Леви N 13\n",
        "levi_problem = Levi()\n",
        "\n",
        "gwo_champion, gwo_value = optimize(pg.gwo, levi_problem)\n",
        "bee_colony_champion, bee_colony_value = optimize(pg.bee_colony, levi_problem)\n",
        "xnes_champion, xnes_value = optimize(pg.xnes, levi_problem)"
      ],
      "metadata": {
        "id": "I2eWLJjDK__1"
      },
      "execution_count": 8,
      "outputs": []
    },
    {
      "cell_type": "code",
      "source": [
        "print(\"Функция Леви N 13:\")\n",
        "\n",
        "print(f\"\\tАлгоритм GWO:\")\n",
        "print(f\"\\t\\tЛучшее решение: {gwo_champion}\")\n",
        "print(f\"\\t\\tЗначение функции: {gwo_value}\\n\")\n",
        "\n",
        "print(f\"\\tАлгоритм Bee Colony:\")\n",
        "print(f\"\\t\\tЛучшее решение: {bee_colony_champion}\")\n",
        "print(f\"\\t\\tЗначение функции: {bee_colony_value}\\n\")\n",
        "\n",
        "\n",
        "print(f\"\\tАлгоритм XNES\")\n",
        "print(f\"\\t\\tЛучшее решение: {xnes_champion}\")\n",
        "print(f\"\\t\\tЗначение функции: {xnes_value}\")"
      ],
      "metadata": {
        "colab": {
          "base_uri": "https://localhost:8080/"
        },
        "id": "2AQ89dqVLOa4",
        "outputId": "9b3189fb-44bf-42c4-dd5c-e8e936a13146"
      },
      "execution_count": 9,
      "outputs": [
        {
          "output_type": "stream",
          "name": "stdout",
          "text": [
            "Функция Леви N 13:\n",
            "\tАлгоритм GWO:\n",
            "\t\tЛучшее решение: [1.0000084 0.9999869]\n",
            "\t\tЗначение функции: 6.574179608042282e-09\n",
            "\n",
            "\tАлгоритм Bee Colony:\n",
            "\t\tЛучшее решение: [1. 1.]\n",
            "\t\tЗначение функции: 1.3497838043956716e-31\n",
            "\n",
            "\tАлгоритм XNES\n",
            "\t\tЛучшее решение: [0.99999804 1.00000357]\n",
            "\t\tЗначение функции: 3.609212171181028e-10\n"
          ]
        }
      ]
    }
  ]
}